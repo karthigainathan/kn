{
 "cells": [
  {
   "cell_type": "markdown",
   "metadata": {},
   "source": [
    "# Lists"
   ]
  },
  {
   "cell_type": "code",
   "execution_count": 53,
   "metadata": {},
   "outputs": [
    {
     "name": "stdout",
     "output_type": "stream",
     "text": [
      "13\n",
      "13\n",
      "13\n"
     ]
    }
   ],
   "source": [
    "#list_inside_list\n",
    "lists = [\n",
    "        [1,2,3,4,5,6,7,8,9,10],\n",
    "        [11,12,13,14,15,16,17,18,19,20],\n",
    "        [21,22,23,24,25,26,27,28,29,30],\n",
    "        ]\n",
    "for x in lists:\n",
    "    #print(x)\n",
    "    print(lists[1][2])"
   ]
  },
  {
   "cell_type": "code",
   "execution_count": 6,
   "metadata": {},
   "outputs": [
    {
     "name": "stdout",
     "output_type": "stream",
     "text": [
      "looping elements\n",
      "value is 1\n",
      "value is 2\n",
      "value is 3\n",
      "value is 4\n",
      "value is 5\n",
      "value is 6\n",
      "value is 7\n",
      "value is 8\n",
      "value is 9\n",
      "value is 10\n",
      "value is 11\n",
      "value is 12\n",
      "value is 13\n",
      "value is 14\n",
      "value is 15\n",
      "value is 16\n",
      "value is 17\n",
      "value is 18\n",
      "value is 19\n",
      "value is 20\n",
      "value is 21\n",
      "value is 22\n",
      "value is 23\n",
      "value is 24\n",
      "value is 25\n",
      "value is 26\n",
      "value is 27\n",
      "value is 28\n",
      "value is 29\n",
      "value is 30\n"
     ]
    }
   ],
   "source": [
    "#iterating list\n",
    "\n",
    "lists = [\n",
    "        [1,2,3,4,5,6,7,8,9,10],\n",
    "        [11,12,13,14,15,16,17,18,19,20],\n",
    "        [21,22,23,24,25,26,27,28,29,30],\n",
    "        ]\n",
    "print(\"looping elements\")\n",
    "for row in lists:\n",
    "    #print(row)\n",
    "    for values in row:\n",
    "        print(f\"value is {values}\")"
   ]
  },
  {
   "cell_type": "code",
   "execution_count": 2,
   "metadata": {},
   "outputs": [
    {
     "name": "stdout",
     "output_type": "stream",
     "text": [
      "element[0][0] is 1\n",
      "element[0][1] is 2\n",
      "element[0][2] is 3\n",
      "element[0][3] is 4\n",
      "element[0][4] is 5\n",
      "element[0][5] is 6\n",
      "element[0][6] is 7\n",
      "element[0][7] is 8\n",
      "element[0][8] is 9\n",
      "element[0][9] is 10\n",
      "element[1][0] is 11\n",
      "element[1][1] is 12\n",
      "element[1][2] is 13\n",
      "element[1][3] is 14\n",
      "element[1][4] is 15\n",
      "element[1][5] is 16\n",
      "element[1][6] is 17\n",
      "element[1][7] is 18\n",
      "element[1][8] is 19\n",
      "element[1][9] is 20\n",
      "element[2][0] is 21\n",
      "element[2][1] is 22\n",
      "element[2][2] is 23\n",
      "element[2][3] is 24\n",
      "element[2][4] is 25\n",
      "element[2][5] is 26\n",
      "element[2][6] is 27\n",
      "element[2][7] is 28\n",
      "element[2][8] is 29\n",
      "element[2][9] is 30\n"
     ]
    }
   ],
   "source": [
    "lists = [\n",
    "        [1,2,3,4,5,6,7,8,9,10],\n",
    "        [11,12,13,14,15,16,17,18,19,20],\n",
    "        [21,22,23,24,25,26,27,28,29,30],\n",
    "        ]\n",
    "\n",
    "#range(0, 3) => 0,1,2\n",
    "for i in range(0, len(lists)):# i = 012\n",
    "    #range(0,10)=> 0,1,2,3,..,8,9\n",
    "    for j in range(0,len(lists[i])):# i=0 ; j=0123...89\n",
    "        print(f\"element[{i}][{j}] is {lists[i][j]}\")"
   ]
  },
  {
   "cell_type": "code",
   "execution_count": 40,
   "metadata": {},
   "outputs": [
    {
     "name": "stdout",
     "output_type": "stream",
     "text": [
      "[1]\n",
      "[1, 2]\n",
      "[1, 2, 3]\n",
      "[1, 2, 3, 4]\n",
      "[1, 2, 3, 4, 5]\n",
      "[1, 2, 3, 4, 5, 6]\n",
      "[1, 2, 3, 4, 5, 6, 7]\n",
      "[1, 2, 3, 4, 5, 6, 7, 8]\n",
      "[1, 2, 3, 4, 5, 6, 7, 8, 9]\n",
      "[1, 2, 3, 4, 5, 6, 7, 8, 9, 10]\n"
     ]
    }
   ],
   "source": [
    "lists = (1,2,3,4,5,6,7,8,9,10)\n",
    "newlist = []\n",
    "for x in lists:\n",
    "    newlist.append(x)\n",
    "    print(newlist)"
   ]
  },
  {
   "cell_type": "code",
   "execution_count": 11,
   "metadata": {},
   "outputs": [
    {
     "data": {
      "text/plain": [
       "[1, 2, 3, 4, 5, 6, 7, 8, 9, 10]"
      ]
     },
     "execution_count": 11,
     "metadata": {},
     "output_type": "execute_result"
    }
   ],
   "source": [
    "lists = [1,2,3,4,5,6,7,8,9,10]\n",
    "new = [values for values in lists]\n",
    "new"
   ]
  },
  {
   "cell_type": "code",
   "execution_count": 9,
   "metadata": {},
   "outputs": [
    {
     "name": "stdout",
     "output_type": "stream",
     "text": [
      "0\n",
      "Letters at index 0 is = P\n",
      "1\n",
      "Letters at index 1 is = y\n",
      "2\n",
      "Letters at index 2 is = t\n",
      "3\n",
      "Letters at index 3 is = h\n",
      "4\n",
      "Letters at index 4 is = o\n",
      "5\n",
      "Letters at index 5 is = n\n",
      "0\n",
      "Countries at index 0 is = India\n",
      "1\n",
      "Countries at index 1 is = U K\n",
      "2\n",
      "Countries at index 2 is = U S A\n",
      "3\n",
      "Countries at index 3 is = Australia\n"
     ]
    }
   ],
   "source": [
    "# Python For Loop - String Example\n",
    "Str = \"Python\"\n",
    "for word in range(len(Str)):\n",
    "    print(word)\n",
    "    print(\"Letters at index {0} is = {1}\".format(word, Str[word]))\n",
    "  \n",
    "#print(\"----This is Outside String For Loop---\")\n",
    "#print(\" \")\n",
    "\n",
    "# Python For Loop - List Example\n",
    "Countries = ['India', 'U K', 'U S A', 'Australia']\n",
    "for Country in range(len(Countries)):\n",
    "    print (Country)\n",
    "    print(\"Countries at index {0} is = {1}\".format(Country,Countries[Country]))"
   ]
  },
  {
   "cell_type": "code",
   "execution_count": 7,
   "metadata": {},
   "outputs": [
    {
     "name": "stdout",
     "output_type": "stream",
     "text": [
      "List Item at Index Position 0 =  India\n",
      "List Item at Index Position 0 =  U K\n",
      "List Item at Index Position 0 =  U S A\n",
      "List Item at Index Position 0 =  Australia\n"
     ]
    }
   ],
   "source": [
    "Countries = ['India', 'U K', 'U S A', 'Australia']\n",
    "\n",
    "print(\"List Item at Index Position 0 = \", Countries[0])\n",
    "print(\"List Item at Index Position 0 = \", Countries[1])\n",
    "print(\"List Item at Index Position 0 = \", Countries[2])\n",
    "print(\"List Item at Index Position 0 = \", Countries[3])"
   ]
  },
  {
   "cell_type": "code",
   "execution_count": 29,
   "metadata": {},
   "outputs": [
    {
     "name": "stdout",
     "output_type": "stream",
     "text": [
      "the given conditon is not satisfied = India\n",
      "the given conditon is satisfied = U K\n"
     ]
    }
   ],
   "source": [
    "Countries = ['India', 'U K', 'U S A', 'Australia']\n",
    "for i in (Countries):\n",
    "    if i== 'U K':\n",
    "        print(\"the given conditon is satisfied =\",i)\n",
    "        break\n",
    "    else:\n",
    "        print(\"the given conditon is not satisfied =\",i)               "
   ]
  },
  {
   "cell_type": "code",
   "execution_count": 42,
   "metadata": {},
   "outputs": [
    {
     "name": "stdout",
     "output_type": "stream",
     "text": [
      "apples count:  5\n"
     ]
    }
   ],
   "source": [
    "result = [\"apple\",\"orange\",\"apple\",\"orange\",\"apple\",\"apple\",\"orange\",\"orange\",\"apple\",\"orange\"]\n",
    "count = 0\n",
    "for item in result:\n",
    "    if item == \"apple\":\n",
    "        count += 1\n",
    "print(\"apples count: \",count)"
   ]
  },
  {
   "cell_type": "markdown",
   "metadata": {},
   "source": [
    "# Dict"
   ]
  },
  {
   "cell_type": "code",
   "execution_count": 10,
   "metadata": {},
   "outputs": [
    {
     "name": "stdout",
     "output_type": "stream",
     "text": [
      "## looping list ##\n",
      "{'name': 'arun', 'email': 'santhu@gmail.com'}\n",
      "{'name': 'karthi', 'email': 'karthi@gmail.com'}\n"
     ]
    }
   ],
   "source": [
    "#dict_inside_list\n",
    "dic = [\n",
    "        {\"name\": \"arun\", \"email\": \"santhu@gmail.com\"},\n",
    "        {\"name\": \"karthi\", \"email\": \"karthi@gmail.com\"},\n",
    "        ]\n",
    "print(\"## looping list ##\")\n",
    "for x in dic:\n",
    "    print(x)"
   ]
  },
  {
   "cell_type": "code",
   "execution_count": 14,
   "metadata": {},
   "outputs": [
    {
     "name": "stdout",
     "output_type": "stream",
     "text": [
      "name : arun\n",
      "email : santhu@gmail.com\n",
      "name : karthi\n",
      "email : karthi@gmail.com\n",
      "karthi\n"
     ]
    }
   ],
   "source": [
    "for x in dic:\n",
    "    for key in x:\n",
    "        print(f\"{key} : {x[key]}\")\n",
    "        \n",
    "print(dic[1][\"name\"])"
   ]
  },
  {
   "cell_type": "code",
   "execution_count": 8,
   "metadata": {},
   "outputs": [
    {
     "name": "stdout",
     "output_type": "stream",
     "text": [
      "name\n",
      "email\n"
     ]
    }
   ],
   "source": [
    "myDict = {\"name\": \"karthi\", \"email\": \"karthi@gmail.com\"}\n",
    "# Print Dictionary Keys\n",
    "for key in myDict:\n",
    "    print(key)"
   ]
  },
  {
   "cell_type": "code",
   "execution_count": 9,
   "metadata": {},
   "outputs": [
    {
     "name": "stdout",
     "output_type": "stream",
     "text": [
      "karthi\n",
      "karthi@gmail.com\n",
      "karthi\n",
      "karthi@gmail.com\n"
     ]
    }
   ],
   "source": [
    "#iterate and print the values inside a dictionary.\n",
    "for value in myDict:\n",
    "    #print(value)\n",
    "    print(myDict[value])\n",
    "for i in myDict.values():\n",
    "    print(i)"
   ]
  },
  {
   "cell_type": "code",
   "execution_count": 11,
   "metadata": {},
   "outputs": [
    {
     "name": "stdout",
     "output_type": "stream",
     "text": [
      "name =  karthi@gmail.com\n",
      "email =  karthi@gmail.com\n",
      "name karthi\n",
      "email karthi@gmail.com\n",
      "('name', 'karthi')\n",
      "('email', 'karthi@gmail.com')\n"
     ]
    }
   ],
   "source": [
    "#Print Dictionary Values\n",
    "for x in myDict:\n",
    "    print(x, \"= \", myDict[value])\n",
    "\n",
    "for i,j in myDict.items():\n",
    "    print(i,j)\n",
    "    \n",
    "for i in myDict.items():\n",
    "    print(i)"
   ]
  },
  {
   "cell_type": "markdown",
   "metadata": {},
   "source": [
    "# END"
   ]
  },
  {
   "cell_type": "code",
   "execution_count": 1,
   "metadata": {},
   "outputs": [
    {
     "data": {
      "text/html": [
       "<div>\n",
       "<style scoped>\n",
       "    .dataframe tbody tr th:only-of-type {\n",
       "        vertical-align: middle;\n",
       "    }\n",
       "\n",
       "    .dataframe tbody tr th {\n",
       "        vertical-align: top;\n",
       "    }\n",
       "\n",
       "    .dataframe thead th {\n",
       "        text-align: right;\n",
       "    }\n",
       "</style>\n",
       "<table border=\"1\" class=\"dataframe\">\n",
       "  <thead>\n",
       "    <tr style=\"text-align: right;\">\n",
       "      <th></th>\n",
       "      <th>rid</th>\n",
       "      <th>text</th>\n",
       "    </tr>\n",
       "  </thead>\n",
       "  <tbody>\n",
       "    <tr>\n",
       "      <th>0</th>\n",
       "      <td>101</td>\n",
       "      <td>About a year ago I got a pizza in this branch ...</td>\n",
       "    </tr>\n",
       "    <tr>\n",
       "      <th>1</th>\n",
       "      <td>102</td>\n",
       "      <td>Order showed up as delivered on the tracker bu...</td>\n",
       "    </tr>\n",
       "    <tr>\n",
       "      <th>2</th>\n",
       "      <td>103</td>\n",
       "      <td>I had twisted dough balls and chicken kickers....</td>\n",
       "    </tr>\n",
       "  </tbody>\n",
       "</table>\n",
       "</div>"
      ],
      "text/plain": [
       "   rid                                               text\n",
       "0  101  About a year ago I got a pizza in this branch ...\n",
       "1  102  Order showed up as delivered on the tracker bu...\n",
       "2  103  I had twisted dough balls and chicken kickers...."
      ]
     },
     "execution_count": 1,
     "metadata": {},
     "output_type": "execute_result"
    }
   ],
   "source": [
    "import pandas as pd \n",
    "df= pd.read_csv(\"~/Desktop/rev.csv\")\n",
    "df.head()"
   ]
  },
  {
   "cell_type": "code",
   "execution_count": 2,
   "metadata": {},
   "outputs": [
    {
     "name": "stdout",
     "output_type": "stream",
     "text": [
      "[[101, \"About a year ago I got a pizza in this branch and so little toppings on it I started going further to dominos in Raheny. However last night with a mate we got 2 large Tandoori pizzas in this Arrange Branch again. Honestly it was best Dominos pizza we have had in a long time. Perfect amount of sauce cheese and toppings. The new staff must be better trained or using own initiative and making great pizza. Either way we'll done you have won our custom back .\"], [102, \"Order showed up as delivered on the tracker but it never actually arrived. After over an hour wait called the restaurant to only be told 'driver is on the way' or being put on hold .\"], [103, 'I had twisted dough balls and chicken kickers. Both tested great especially the masala tested of chicken kicker was outstanding, worth giving a try.']]\n"
     ]
    }
   ],
   "source": [
    "audience = df.values.tolist()\n",
    "print(audience)"
   ]
  },
  {
   "cell_type": "code",
   "execution_count": 9,
   "metadata": {},
   "outputs": [
    {
     "name": "stdout",
     "output_type": "stream",
     "text": [
      "[\"About a year ago I got a pizza in this branch and so little toppings on it I started going further to dominos in Raheny. However last night with a mate we got 2 large Tandoori pizzas in this Arrange Branch again. Honestly it was best Dominos pizza we have had in a long time. Perfect amount of sauce cheese and toppings. The new staff must be better trained or using own initiative and making great pizza. Either way we'll done you have won our custom back .\"]\n",
      "[\"Order showed up as delivered on the tracker but it never actually arrived. After over an hour wait called the restaurant to only be told 'driver is on the way' or being put on hold .\"]\n",
      "['I had twisted dough balls and chicken kickers. Both tested great especially the masala tested of chicken kicker was outstanding, worth giving a try.']\n"
     ]
    }
   ],
   "source": [
    "for i in audience:\n",
    "    #print(i)\n",
    "    #print(audience[2][1])\n",
    "    #print([i])\n",
    "    #print(i[0])\n",
    "    #print([i][0])\n",
    "    print([i[1]])"
   ]
  },
  {
   "cell_type": "code",
   "execution_count": 5,
   "metadata": {},
   "outputs": [
    {
     "name": "stdout",
     "output_type": "stream",
     "text": [
      "value is 101\n",
      "value is About a year ago I got a pizza in this branch and so little toppings on it I started going further to dominos in Raheny. However last night with a mate we got 2 large Tandoori pizzas in this Arrange Branch again. Honestly it was best Dominos pizza we have had in a long time. Perfect amount of sauce cheese and toppings. The new staff must be better trained or using own initiative and making great pizza. Either way we'll done you have won our custom back .\n",
      "value is 102\n",
      "value is Order showed up as delivered on the tracker but it never actually arrived. After over an hour wait called the restaurant to only be told 'driver is on the way' or being put on hold .\n",
      "value is 103\n",
      "value is I had twisted dough balls and chicken kickers. Both tested great especially the masala tested of chicken kicker was outstanding, worth giving a try.\n"
     ]
    }
   ],
   "source": [
    "for row in audience:\n",
    "    print(row)\n",
    "    for values in row:\n",
    "        print(f\"value is {values}\")"
   ]
  },
  {
   "cell_type": "code",
   "execution_count": 10,
   "metadata": {},
   "outputs": [
    {
     "name": "stdout",
     "output_type": "stream",
     "text": [
      "101\n",
      "102\n",
      "103\n"
     ]
    }
   ],
   "source": [
    "#for i in range (1,10,2):\n",
    "for i in range (len(audience)):\n",
    "    #print(i)\n",
    "    #print(audience[i])\n",
    "    print(audience[i][0])"
   ]
  },
  {
   "cell_type": "code",
   "execution_count": 7,
   "metadata": {},
   "outputs": [
    {
     "name": "stdout",
     "output_type": "stream",
     "text": [
      "About a year ago I got a pizza in this branch and so little toppings on it I started going further to dominos in Raheny. However last night with a mate we got 2 large Tandoori pizzas in this Arrange Branch again. Honestly it was best Dominos pizza we have had in a long time. Perfect amount of sauce cheese and toppings. The new staff must be better trained or using own initiative and making great pizza. Either way we'll done you have won our custom back .\n",
      "Order showed up as delivered on the tracker but it never actually arrived. After over an hour wait called the restaurant to only be told 'driver is on the way' or being put on hold .\n",
      "I had twisted dough balls and chicken kickers. Both tested great especially the masala tested of chicken kicker was outstanding, worth giving a try.\n"
     ]
    }
   ],
   "source": [
    "for i, value in df.iterrows():\n",
    "    #print(f\"Index: {i}\")\n",
    "    #print(f\"{value}\\n\")\n",
    "    print(value['text'])"
   ]
  },
  {
   "cell_type": "code",
   "execution_count": null,
   "metadata": {},
   "outputs": [],
   "source": []
  }
 ],
 "metadata": {
  "kernelspec": {
   "display_name": "Python 3",
   "language": "python",
   "name": "python3"
  },
  "language_info": {
   "codemirror_mode": {
    "name": "ipython",
    "version": 3
   },
   "file_extension": ".py",
   "mimetype": "text/x-python",
   "name": "python",
   "nbconvert_exporter": "python",
   "pygments_lexer": "ipython3",
   "version": "3.8.5"
  }
 },
 "nbformat": 4,
 "nbformat_minor": 4
}
